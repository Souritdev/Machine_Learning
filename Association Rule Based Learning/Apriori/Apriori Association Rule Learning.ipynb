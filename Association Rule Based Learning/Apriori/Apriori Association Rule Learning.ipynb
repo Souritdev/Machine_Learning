{
 "cells": [
  {
   "cell_type": "markdown",
   "metadata": {
    "id": "Z-jZGC0q0aiY"
   },
   "source": [
    "# Apriori"
   ]
  },
  {
   "cell_type": "code",
   "execution_count": 15,
   "metadata": {},
   "outputs": [
    {
     "name": "stdout",
     "output_type": "stream",
     "text": [
      "Requirement already satisfied: apyori in c:\\python312\\lib\\site-packages (1.1.2)\n",
      "Note: you may need to restart the kernel to use updated packages.\n"
     ]
    }
   ],
   "source": [
    "%pip install apyori"
   ]
  },
  {
   "cell_type": "markdown",
   "metadata": {
    "id": "jE4Rc_OO0eJM"
   },
   "source": [
    "## Importing libraries"
   ]
  },
  {
   "cell_type": "code",
   "execution_count": 16,
   "metadata": {},
   "outputs": [],
   "source": [
    "import pandas as pd \n",
    "import matplotlib.pyplot as plt \n",
    "import numpy as np"
   ]
  },
  {
   "cell_type": "markdown",
   "metadata": {
    "id": "A9-xGHd20gY1"
   },
   "source": [
    "## Importing dataset"
   ]
  },
  {
   "cell_type": "code",
   "execution_count": 17,
   "metadata": {},
   "outputs": [],
   "source": [
    "data_set = pd.read_csv(\"Big Basket.com Cart Apriori.csv\", header=None)\n",
    "transactions = []\n",
    "\n",
    "for i in range(0, 7219):\n",
    "    transactions.append([str(data_set.values[i,j]) for j in range(0, 20)])"
   ]
  },
  {
   "cell_type": "markdown",
   "metadata": {
    "id": "8REFJFGC0lRN"
   },
   "source": [
    "## Apriori Training on Dataset"
   ]
  },
  {
   "cell_type": "code",
   "execution_count": 19,
   "metadata": {},
   "outputs": [],
   "source": [
    "from apyori import apriori\n",
    "basket_intelligence = apriori(transactions = transactions, min_support = 0.003, min_confidence = 0.2, min_lift = 3, min_length = 2, max_length = 2)"
   ]
  },
  {
   "cell_type": "markdown",
   "metadata": {
    "id": "-Dw4Khi70u9g"
   },
   "source": [
    "## Visualizing"
   ]
  },
  {
   "cell_type": "markdown",
   "metadata": {
    "id": "LMakVn8pt7Fk"
   },
   "source": [
    "### Raw Results"
   ]
  },
  {
   "cell_type": "code",
   "execution_count": null,
   "metadata": {},
   "outputs": [],
   "source": [
    "results = list(basket_intelligence)\n",
    "results"
   ]
  },
  {
   "cell_type": "markdown",
   "metadata": {
    "id": "0Ir6DPsdumvX"
   },
   "source": [
    "### Proper Display"
   ]
  },
  {
   "cell_type": "code",
   "execution_count": 23,
   "metadata": {},
   "outputs": [],
   "source": [
    "def inspect(results):\n",
    "    product1         = [tuple(result[2][0][0])[0] for result in results]\n",
    "    product2         = [tuple(result[2][0][1])[0] for result in results]\n",
    "    supports    = [result[1] for result in results]\n",
    "    confidences = [result[2][0][2] for result in results]\n",
    "    lifts       = [result[2][0][3] for result in results]\n",
    "    return list(zip(product1, product2, supports, confidences, lifts))\n",
    "DataFrame_intelligence = pd.DataFrame(inspect(results), columns = ['product1', 'product2', 'Support', 'Confidence', 'Lift'])"
   ]
  },
  {
   "cell_type": "code",
   "execution_count": 22,
   "metadata": {},
   "outputs": [
    {
     "data": {
      "text/html": [
       "<div>\n",
       "<style scoped>\n",
       "    .dataframe tbody tr th:only-of-type {\n",
       "        vertical-align: middle;\n",
       "    }\n",
       "\n",
       "    .dataframe tbody tr th {\n",
       "        vertical-align: top;\n",
       "    }\n",
       "\n",
       "    .dataframe thead th {\n",
       "        text-align: right;\n",
       "    }\n",
       "</style>\n",
       "<table border=\"1\" class=\"dataframe\">\n",
       "  <thead>\n",
       "    <tr style=\"text-align: right;\">\n",
       "      <th></th>\n",
       "      <th>product1</th>\n",
       "      <th>product1</th>\n",
       "      <th>Support</th>\n",
       "      <th>Confidence</th>\n",
       "      <th>Lift</th>\n",
       "    </tr>\n",
       "  </thead>\n",
       "  <tbody>\n",
       "    <tr>\n",
       "      <th>0</th>\n",
       "      <td>almonds</td>\n",
       "      <td>burgers</td>\n",
       "      <td>0.005402</td>\n",
       "      <td>0.265306</td>\n",
       "      <td>3.059497</td>\n",
       "    </tr>\n",
       "    <tr>\n",
       "      <th>1</th>\n",
       "      <td>buns</td>\n",
       "      <td>paneer</td>\n",
       "      <td>0.016069</td>\n",
       "      <td>0.324022</td>\n",
       "      <td>3.285277</td>\n",
       "    </tr>\n",
       "    <tr>\n",
       "      <th>2</th>\n",
       "      <td>ginger garlic paste</td>\n",
       "      <td>chicken</td>\n",
       "      <td>0.004571</td>\n",
       "      <td>0.292035</td>\n",
       "      <td>4.791372</td>\n",
       "    </tr>\n",
       "    <tr>\n",
       "      <th>3</th>\n",
       "      <td>fruit basket</td>\n",
       "      <td>vegetable basket</td>\n",
       "      <td>0.005541</td>\n",
       "      <td>0.294118</td>\n",
       "      <td>3.081619</td>\n",
       "    </tr>\n",
       "    <tr>\n",
       "      <th>4</th>\n",
       "      <td>ginger garlic paste</td>\n",
       "      <td>olive oil</td>\n",
       "      <td>0.003325</td>\n",
       "      <td>0.212389</td>\n",
       "      <td>3.234681</td>\n",
       "    </tr>\n",
       "    <tr>\n",
       "      <th>5</th>\n",
       "      <td>kissan puree</td>\n",
       "      <td>paneer</td>\n",
       "      <td>0.005402</td>\n",
       "      <td>0.378641</td>\n",
       "      <td>3.839056</td>\n",
       "    </tr>\n",
       "    <tr>\n",
       "      <th>6</th>\n",
       "      <td>pasta</td>\n",
       "      <td>maggi</td>\n",
       "      <td>0.003463</td>\n",
       "      <td>0.247525</td>\n",
       "      <td>3.456250</td>\n",
       "    </tr>\n",
       "    <tr>\n",
       "      <th>7</th>\n",
       "      <td>pasta</td>\n",
       "      <td>mushroom</td>\n",
       "      <td>0.005402</td>\n",
       "      <td>0.386139</td>\n",
       "      <td>4.873312</td>\n",
       "    </tr>\n",
       "    <tr>\n",
       "      <th>8</th>\n",
       "      <td>pepper spray</td>\n",
       "      <td>mushroom</td>\n",
       "      <td>0.005818</td>\n",
       "      <td>0.302158</td>\n",
       "      <td>3.813428</td>\n",
       "    </tr>\n",
       "    <tr>\n",
       "      <th>9</th>\n",
       "      <td>neckrest</td>\n",
       "      <td>trolly bag</td>\n",
       "      <td>0.003463</td>\n",
       "      <td>0.271739</td>\n",
       "      <td>5.620873</td>\n",
       "    </tr>\n",
       "    <tr>\n",
       "      <th>10</th>\n",
       "      <td>whole wheat pasta</td>\n",
       "      <td>olive oil</td>\n",
       "      <td>0.007757</td>\n",
       "      <td>0.266667</td>\n",
       "      <td>4.061322</td>\n",
       "    </tr>\n",
       "  </tbody>\n",
       "</table>\n",
       "</div>"
      ],
      "text/plain": [
       "               product1          product1   Support  Confidence      Lift\n",
       "0               almonds           burgers  0.005402    0.265306  3.059497\n",
       "1                  buns            paneer  0.016069    0.324022  3.285277\n",
       "2   ginger garlic paste           chicken  0.004571    0.292035  4.791372\n",
       "3          fruit basket  vegetable basket  0.005541    0.294118  3.081619\n",
       "4   ginger garlic paste         olive oil  0.003325    0.212389  3.234681\n",
       "5          kissan puree            paneer  0.005402    0.378641  3.839056\n",
       "6                 pasta             maggi  0.003463    0.247525  3.456250\n",
       "7                 pasta          mushroom  0.005402    0.386139  4.873312\n",
       "8          pepper spray          mushroom  0.005818    0.302158  3.813428\n",
       "9              neckrest        trolly bag  0.003463    0.271739  5.620873\n",
       "10    whole wheat pasta         olive oil  0.007757    0.266667  4.061322"
      ]
     },
     "execution_count": 22,
     "metadata": {},
     "output_type": "execute_result"
    }
   ],
   "source": [
    "DataFrame_intelligence"
   ]
  }
 ],
 "metadata": {
  "colab": {
   "authorship_tag": "ABX9TyPb6/8jl3OIdJf8xzwfY66g",
   "name": "Apriori Association Rule Learning Template.ipynb",
   "provenance": [],
   "toc_visible": true
  },
  "kernelspec": {
   "display_name": "Python 3",
   "name": "python3"
  },
  "language_info": {
   "codemirror_mode": {
    "name": "ipython",
    "version": 3
   },
   "file_extension": ".py",
   "mimetype": "text/x-python",
   "name": "python",
   "nbconvert_exporter": "python",
   "pygments_lexer": "ipython3",
   "version": "3.12.5"
  }
 },
 "nbformat": 4,
 "nbformat_minor": 0
}
